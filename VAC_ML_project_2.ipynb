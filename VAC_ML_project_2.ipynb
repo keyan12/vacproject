{
  "nbformat": 4,
  "nbformat_minor": 0,
  "metadata": {
    "colab": {
      "provenance": [],
      "authorship_tag": "ABX9TyMQZhnuFlbb0smjyE2a3B6x",
      "include_colab_link": true
    },
    "kernelspec": {
      "name": "python3",
      "display_name": "Python 3"
    },
    "language_info": {
      "name": "python"
    }
  },
  "cells": [
    {
      "cell_type": "markdown",
      "metadata": {
        "id": "view-in-github",
        "colab_type": "text"
      },
      "source": [
        "<a href=\"https://colab.research.google.com/github/keyan12/vacproject/blob/main/VAC_ML_project_2.ipynb\" target=\"_parent\"><img src=\"https://colab.research.google.com/assets/colab-badge.svg\" alt=\"Open In Colab\"/></a>"
      ]
    },
    {
      "cell_type": "code",
      "source": [
        "from google.colab import drive\n",
        "drive.mount('/content/drive')"
      ],
      "metadata": {
        "colab": {
          "base_uri": "https://localhost:8080/"
        },
        "id": "JidcUIQQ5WmN",
        "outputId": "ffd1383b-573f-4f71-85ea-28990bab79de"
      },
      "execution_count": 1,
      "outputs": [
        {
          "output_type": "stream",
          "name": "stdout",
          "text": [
            "Mounted at /content/drive\n"
          ]
        }
      ]
    },
    {
      "cell_type": "code",
      "execution_count": 13,
      "metadata": {
        "id": "jqlsSn4o5LiA"
      },
      "outputs": [],
      "source": [
        "import pandas as pd\n",
        "import numpy as np\n",
        "\n",
        "df = pd.read_csv(\"/content/drive/MyDrive/VAC dataset/Bank_Personal_Loan_Modelling.csv\")"
      ]
    },
    {
      "cell_type": "code",
      "source": [
        "# drop irrelevant columns\n",
        "df = df.drop(['ID', 'ZIP Code'], axis=1)\n",
        "\n",
        "# convert categorical variables to numerical variables\n",
        "df = pd.get_dummies(df, columns=['Family', 'Education', 'Securities Account', 'CD Account', 'Online', 'CreditCard'], drop_first=True)\n",
        "\n",
        "# split dataset into features and target\n",
        "X = df.drop('Personal Loan', axis=1)\n",
        "y = df['Personal Loan']\n",
        "\n",
        "# standardize the features\n",
        "from sklearn.preprocessing import StandardScaler\n",
        "scaler = StandardScaler()\n",
        "X = scaler.fit_transform(X)\n"
      ],
      "metadata": {
        "id": "11U_I2Ry6HsL"
      },
      "execution_count": 14,
      "outputs": []
    },
    {
      "cell_type": "code",
      "source": [
        "from sklearn.model_selection import train_test_split\n",
        "\n",
        "X_train, X_test, y_train, y_test = train_test_split(X, y, test_size=0.2, random_state=42)\n"
      ],
      "metadata": {
        "id": "kMI9-CCS6OHN"
      },
      "execution_count": 15,
      "outputs": []
    },
    {
      "cell_type": "code",
      "source": [
        "# Logistic Regression\n",
        "from sklearn.linear_model import LogisticRegression\n",
        "lr_model = LogisticRegression()\n",
        "lr_model.fit(X_train, y_train)\n",
        "lr_score = lr_model.score(X_test, y_test)\n",
        "\n",
        "# K-Nearest Neighbors\n",
        "from sklearn.neighbors import KNeighborsClassifier\n",
        "knn_model = KNeighborsClassifier()\n",
        "knn_model.fit(X_train, y_train)\n",
        "knn_score = knn_model.score(X_test, y_test)\n",
        "\n",
        "# Support Vector Machines\n",
        "from sklearn.svm import SVC\n",
        "svm_model = SVC()\n",
        "svm_model.fit(X_train, y_train)\n",
        "svm_score = svm_model.score(X_test, y_test)\n",
        "\n",
        "# Decision Tree Classifier\n",
        "from sklearn.tree import DecisionTreeClassifier\n",
        "dt_model = DecisionTreeClassifier()\n",
        "dt_model.fit(X_train, y_train)\n",
        "dt_score = dt_model.score(X_test, y_test)\n",
        "\n",
        "# Random Forest Classifier\n",
        "from sklearn.ensemble import RandomForestClassifier\n",
        "rf_model = RandomForestClassifier()\n",
        "rf_model.fit(X_train, y_train)\n",
        "rf_score = rf_model.score(X_test, y_test)\n"
      ],
      "metadata": {
        "id": "_qifMONa6U_N"
      },
      "execution_count": 16,
      "outputs": []
    },
    {
      "cell_type": "code",
      "source": [
        "scores = [lr_score, knn_score, svm_score, dt_score, rf_score]\n",
        "models = ['Logistic Regression', 'K-Nearest Neighbors', 'Support Vector Machines', 'Decision Tree Classifier', 'Random Forest Classifier']\n",
        "\n",
        "best_model = models[np.argmax(scores)]\n",
        "best_score = np.max(scores)\n",
        "\n",
        "print(\"Best Model:\", best_model)\n",
        "print(\"Best Score:\", best_score)\n"
      ],
      "metadata": {
        "colab": {
          "base_uri": "https://localhost:8080/"
        },
        "id": "RXhNC3mh6ZsH",
        "outputId": "36079193-8436-4aa0-f224-c00c6cbca43c"
      },
      "execution_count": 17,
      "outputs": [
        {
          "output_type": "stream",
          "name": "stdout",
          "text": [
            "Best Model: Random Forest Classifier\n",
            "Best Score: 0.994\n"
          ]
        }
      ]
    }
  ]
}